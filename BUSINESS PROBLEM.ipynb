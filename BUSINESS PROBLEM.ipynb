{
 "cells": [
  {
   "cell_type": "markdown",
   "metadata": {},
   "source": [
    "## Business Problem"
   ]
  },
  {
   "cell_type": "markdown",
   "metadata": {},
   "source": [
    "### As the number of cars is growing and consequently more car accidents occur, prevention of the car accidents has become important in the modern society. Car accident kills or injures people, damages vehicles, buildings, goods, or suffer a material loss. As a member of health care providers, What can we do to decrease its occurrence?"
   ]
  },
  {
   "cell_type": "markdown",
   "metadata": {},
   "source": [
    "### Information technologies have been rapidly developed in recent decades. Large volumes of data are being collected, stored and analyzed to make different processes more efficient. Minimization of quantity of car incidents and their severity is also the area for applying different data science techniques."
   ]
  },
  {
   "cell_type": "markdown",
   "metadata": {},
   "source": [
    "### It is very important for society to decrease number of collisions and lower damage to people and property. As a result, state organizations responsible for traffic safety are key stakeholders in this business problem. Using results derived from car collisions data analysis, they will be able to make changes in traffic regulation, adding new road signs and crossroads to improve traffic safety."
   ]
  },
  {
   "cell_type": "markdown",
   "metadata": {},
   "source": [
    "### To solve this business problem we need to acquire detailed data about car collisions, prepare data for further analysis, choose proper data analysis tool and construct the model which allows to determine key factors responsible for road incidents and produce warning signals when some critical conditions appear."
   ]
  },
  {
   "cell_type": "markdown",
   "metadata": {},
   "source": [
    "### This predictive model will be deployed in systems used in traffic regulation processes and will estimate current traffic, weather and other conditions around road network to produce recommendations which preventive actions to be made to minimize the quantity of cars collisions and their severity."
   ]
  },
  {
   "cell_type": "markdown",
   "metadata": {},
   "source": []
  }
 ],
 "metadata": {
  "kernelspec": {
   "display_name": "Python 3",
   "language": "python",
   "name": "python3"
  },
  "language_info": {
   "codemirror_mode": {
    "name": "ipython",
    "version": 3
   },
   "file_extension": ".py",
   "mimetype": "text/x-python",
   "name": "python",
   "nbconvert_exporter": "python",
   "pygments_lexer": "ipython3",
   "version": "3.7.6"
  }
 },
 "nbformat": 4,
 "nbformat_minor": 4
}
